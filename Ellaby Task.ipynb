{
 "cells": [
  {
   "cell_type": "code",
   "execution_count": 2,
   "id": "c58357ef",
   "metadata": {},
   "outputs": [],
   "source": [
    "import random as r\n",
    "import math as m"
   ]
  },
  {
   "cell_type": "code",
   "execution_count": null,
   "id": "4c0edbb1",
   "metadata": {},
   "outputs": [],
   "source": [
    "name = input('what is your name?')\n",
    "print('Hello',name,\"\\nWelcome to Ellaby guessing game\")\n",
    "number = int(input('Guess a number below five   '))\n",
    "\n",
    "k = r.randint(1,5)\n",
    "\n",
    "a = 0\n",
    "while a < 2:\n",
    "    if number == a:\n",
    "        print('Wrong',\"\\nDo you wonna try again\")\n",
    "    k = k+1\n",
    "else:\n",
    "    print('Correct',\"\\nCongratulation you got the right answer\")"
   ]
  },
  {
   "cell_type": "code",
   "execution_count": null,
   "id": "31202bbb",
   "metadata": {},
   "outputs": [
    {
     "name": "stdout",
     "output_type": "stream",
     "text": [
      "What is your name?sam\n",
      "Hello sam \n",
      "Welcome to Brainstorm guessing\n",
      "Guess a number between 1 and 20   20\n",
      "Your answer is too low\n"
     ]
    }
   ],
   "source": [
    "name = input('What is your name?')\n",
    "print('Hello',name,\"\\nWelcome to Brainstorm guessing\")\n",
    "\n",
    "gr = r.randint(1,20)\n",
    "\n",
    "k = 0\n",
    "while k < 6:\n",
    "    gn = int(input('Guess a number between 1 and 20   '))\n",
    "    if gn == gr:\n",
    "        print('Congratulation you got the right answer')\n",
    "        break\n",
    "    if gn < gr:\n",
    "        print('Your answer is too high')\n",
    "    if gn > gr:\n",
    "        print('Your answer is too low')\n",
    "    k = k+1\n",
    "\n",
    "if gn == gr:\n",
    "    print('kudos comrade you got the answer after', k,'guesses')\n",
    "if gn != gr:\n",
    "    print('Wrong you missed the answer after',k,'guesses')"
   ]
  },
  {
   "cell_type": "code",
   "execution_count": null,
   "id": "0e31dab8",
   "metadata": {},
   "outputs": [],
   "source": [
    "name = input('What is your name comrade?')\n",
    "print('Hello',name,\"\\nWelcome to Brainstorm calculations game\")\n",
    "\n",
    "k = 0\n",
    "while True:\n",
    "    N1 = r.randint(1,100)\n",
    "    N2 = r.randint(1,100)\n",
    "    T = N1 + N2\n",
    "    print(N1, \"+\", N2, \"=\")\n",
    "    A = int(input())\n",
    "    if T == A:\n",
    "        print('Nice one comrade')\n",
    "    else:\n",
    "        print('Wrong comrade')\n",
    "    print('Do you wonna try again y/n')\n",
    "    b = input()\n",
    "if n == b:\n",
    "    print('Thanks for  your time')\n",
    "    break\n",
    "\n",
    "\n",
    "    "
   ]
  },
  {
   "cell_type": "code",
   "execution_count": 3,
   "id": "c5364919",
   "metadata": {},
   "outputs": [
    {
     "name": "stdout",
     "output_type": "stream",
     "text": [
      "1\n"
     ]
    }
   ],
   "source": [
    "while True:\n",
    "    number = r.randint(1,20)\n",
    "    if number%2 != 0:\n",
    "        A = print(number)\n",
    "        break"
   ]
  },
  {
   "cell_type": "code",
   "execution_count": null,
   "id": "8815c1c0",
   "metadata": {
    "scrolled": true
   },
   "outputs": [],
   "source": [
    "name = input('What is your name?')\n",
    "print('Hello',name,\"\\nWelcome to Brainstorm game\")\n",
    "print('Write a number DIVISIBLE by 2   ')\n",
    "while True:\n",
    "    gr = r.randint(1,20)\n",
    "    if gr%2 == 0:\n",
    "        a = gr\n",
    "        A = int(input())\n",
    "        if a == A:\n",
    "            print('Nice one comrade')\n",
    "            break\n",
    "if a != A:\n",
    "    print('wrong')"
   ]
  },
  {
   "cell_type": "code",
   "execution_count": 81,
   "id": "57132597",
   "metadata": {},
   "outputs": [],
   "source": [
    "x = 8\n",
    "y = 15\n"
   ]
  },
  {
   "cell_type": "code",
   "execution_count": 9,
   "id": "a151652e",
   "metadata": {},
   "outputs": [
    {
     "name": "stdout",
     "output_type": "stream",
     "text": [
      "What is your name?sam\n",
      "Hello sam \n",
      "Welcome to Brainstorm Guessing game\n",
      "You have five chances to guess a question right if you get the right answer you will be awarded 10 point\n",
      "Guess a number between 1 and 20 \n",
      "5\n",
      "Guess a number between 1 and 20 \n",
      "0\n",
      "Guess a number between 1 and 20 \n",
      "200\n",
      "Guess a number between 1 and 20 \n"
     ]
    },
    {
     "ename": "KeyboardInterrupt",
     "evalue": "Interrupted by user",
     "output_type": "error",
     "traceback": [
      "\u001b[1;31m---------------------------------------------------------------------------\u001b[0m",
      "\u001b[1;31mKeyboardInterrupt\u001b[0m                         Traceback (most recent call last)",
      "\u001b[1;32m<ipython-input-9-c8f1976fb61c>\u001b[0m in \u001b[0;36m<module>\u001b[1;34m\u001b[0m\n\u001b[0;32m      6\u001b[0m \u001b[1;32mwhile\u001b[0m \u001b[0mgues\u001b[0m \u001b[1;33m<\u001b[0m \u001b[1;36m5\u001b[0m\u001b[1;33m:\u001b[0m\u001b[1;33m\u001b[0m\u001b[1;33m\u001b[0m\u001b[0m\n\u001b[0;32m      7\u001b[0m     \u001b[0mprint\u001b[0m\u001b[1;33m(\u001b[0m\u001b[1;34m\"Guess a number between 1 and 20 \"\u001b[0m\u001b[1;33m)\u001b[0m\u001b[1;33m\u001b[0m\u001b[1;33m\u001b[0m\u001b[0m\n\u001b[1;32m----> 8\u001b[1;33m     \u001b[0mb\u001b[0m \u001b[1;33m=\u001b[0m \u001b[0mint\u001b[0m\u001b[1;33m(\u001b[0m\u001b[0minput\u001b[0m\u001b[1;33m(\u001b[0m\u001b[1;33m)\u001b[0m\u001b[1;33m)\u001b[0m\u001b[1;33m\u001b[0m\u001b[1;33m\u001b[0m\u001b[0m\n\u001b[0m\u001b[0;32m      9\u001b[0m     \u001b[0ma\u001b[0m \u001b[1;33m=\u001b[0m \u001b[1;36m10\u001b[0m\u001b[1;33m\u001b[0m\u001b[1;33m\u001b[0m\u001b[0m\n\u001b[0;32m     10\u001b[0m     \u001b[1;32mif\u001b[0m \u001b[0mgn\u001b[0m \u001b[1;33m==\u001b[0m \u001b[0mgues\u001b[0m\u001b[1;33m:\u001b[0m\u001b[1;33m\u001b[0m\u001b[1;33m\u001b[0m\u001b[0m\n",
      "\u001b[1;32m~\\Documents\\anaconda\\lib\\site-packages\\ipykernel\\kernelbase.py\u001b[0m in \u001b[0;36mraw_input\u001b[1;34m(self, prompt)\u001b[0m\n\u001b[0;32m    858\u001b[0m                 \u001b[1;34m\"raw_input was called, but this frontend does not support input requests.\"\u001b[0m\u001b[1;33m\u001b[0m\u001b[1;33m\u001b[0m\u001b[0m\n\u001b[0;32m    859\u001b[0m             )\n\u001b[1;32m--> 860\u001b[1;33m         return self._input_request(str(prompt),\n\u001b[0m\u001b[0;32m    861\u001b[0m             \u001b[0mself\u001b[0m\u001b[1;33m.\u001b[0m\u001b[0m_parent_ident\u001b[0m\u001b[1;33m,\u001b[0m\u001b[1;33m\u001b[0m\u001b[1;33m\u001b[0m\u001b[0m\n\u001b[0;32m    862\u001b[0m             \u001b[0mself\u001b[0m\u001b[1;33m.\u001b[0m\u001b[0m_parent_header\u001b[0m\u001b[1;33m,\u001b[0m\u001b[1;33m\u001b[0m\u001b[1;33m\u001b[0m\u001b[0m\n",
      "\u001b[1;32m~\\Documents\\anaconda\\lib\\site-packages\\ipykernel\\kernelbase.py\u001b[0m in \u001b[0;36m_input_request\u001b[1;34m(self, prompt, ident, parent, password)\u001b[0m\n\u001b[0;32m    902\u001b[0m             \u001b[1;32mexcept\u001b[0m \u001b[0mKeyboardInterrupt\u001b[0m\u001b[1;33m:\u001b[0m\u001b[1;33m\u001b[0m\u001b[1;33m\u001b[0m\u001b[0m\n\u001b[0;32m    903\u001b[0m                 \u001b[1;31m# re-raise KeyboardInterrupt, to truncate traceback\u001b[0m\u001b[1;33m\u001b[0m\u001b[1;33m\u001b[0m\u001b[1;33m\u001b[0m\u001b[0m\n\u001b[1;32m--> 904\u001b[1;33m                 \u001b[1;32mraise\u001b[0m \u001b[0mKeyboardInterrupt\u001b[0m\u001b[1;33m(\u001b[0m\u001b[1;34m\"Interrupted by user\"\u001b[0m\u001b[1;33m)\u001b[0m \u001b[1;32mfrom\u001b[0m \u001b[1;32mNone\u001b[0m\u001b[1;33m\u001b[0m\u001b[1;33m\u001b[0m\u001b[0m\n\u001b[0m\u001b[0;32m    905\u001b[0m             \u001b[1;32mexcept\u001b[0m \u001b[0mException\u001b[0m \u001b[1;32mas\u001b[0m \u001b[0me\u001b[0m\u001b[1;33m:\u001b[0m\u001b[1;33m\u001b[0m\u001b[1;33m\u001b[0m\u001b[0m\n\u001b[0;32m    906\u001b[0m                 \u001b[0mself\u001b[0m\u001b[1;33m.\u001b[0m\u001b[0mlog\u001b[0m\u001b[1;33m.\u001b[0m\u001b[0mwarning\u001b[0m\u001b[1;33m(\u001b[0m\u001b[1;34m\"Invalid Message:\"\u001b[0m\u001b[1;33m,\u001b[0m \u001b[0mexc_info\u001b[0m\u001b[1;33m=\u001b[0m\u001b[1;32mTrue\u001b[0m\u001b[1;33m)\u001b[0m\u001b[1;33m\u001b[0m\u001b[1;33m\u001b[0m\u001b[0m\n",
      "\u001b[1;31mKeyboardInterrupt\u001b[0m: Interrupted by user"
     ]
    }
   ],
   "source": [
    "name = input('What is your name?')\n",
    "print('Hello',name,\"\\nWelcome to Brainstorm Guessing game\") \n",
    "print('You have five chances to guess a question right if you get the right answer you will be awarded 10 point') \n",
    "gues = 0 \n",
    "gn = r.randint(1,20) \n",
    "while gues < 5: \n",
    "    print(\"Guess a number between 1 and 20 \") \n",
    "    b = int(input()) \n",
    "    a = 10 \n",
    "    if gn == gues: \n",
    "        print('congratulations you got',a,\"point after\",gues+1,'guesses') \n",
    "    #if gn > gues: \n",
    "         #print('Your number is too low') \n",
    "    if gn < gues: \n",
    "        print('Your number is too high') \n",
    "        \n",
    "        gues = gues +1 \n",
    "if gn != gues: \n",
    "    print('Your total point is',a-gues,'point') \n",
    "#if b == gues: \n",
    "    #print()"
   ]
  },
  {
   "cell_type": "code",
   "execution_count": 77,
   "id": "099e0a21",
   "metadata": {},
   "outputs": [
    {
     "name": "stdout",
     "output_type": "stream",
     "text": [
      "1\n",
      "2\n",
      "3\n",
      "4\n",
      "5\n",
      "6\n",
      "7\n",
      "8\n",
      "9\n",
      "10\n"
     ]
    }
   ],
   "source": [
    "a = 1;\n",
    "while a <= 10:\n",
    "    print(a),\n",
    "    a = a+1\n",
    "    "
   ]
  },
  {
   "cell_type": "code",
   "execution_count": 92,
   "id": "d6a0fcf6",
   "metadata": {},
   "outputs": [
    {
     "data": {
      "text/plain": [
       "str"
      ]
     },
     "execution_count": 92,
     "metadata": {},
     "output_type": "execute_result"
    }
   ],
   "source": [
    "type(name)"
   ]
  },
  {
   "cell_type": "code",
   "execution_count": 87,
   "id": "a75c982f",
   "metadata": {},
   "outputs": [
    {
     "name": "stdout",
     "output_type": "stream",
     "text": [
      "10\n",
      "1\n",
      "2\n",
      "3\n",
      "4\n",
      "5\n",
      "6\n",
      "7\n",
      "8\n",
      "9\n",
      "10\n"
     ]
    }
   ],
   "source": [
    "num = int(input())\n",
    "i = 1;\n",
    "while i <= num:\n",
    "    print(i),\n",
    "    i = i+1"
   ]
  },
  {
   "cell_type": "code",
   "execution_count": null,
   "id": "23e8b757",
   "metadata": {},
   "outputs": [],
   "source": [
    "name = input('What is your name?')\n",
    "print('Hello',name,\"\\nWelcome to Brainstorm game\")\n",
    "print('Today we will asking true or false questions')\n"
   ]
  },
  {
   "cell_type": "code",
   "execution_count": null,
   "id": "b20e44e5",
   "metadata": {},
   "outputs": [],
   "source": [
    "name = input('What is your name?')\n",
    "print('Hello',name,\"\\nWelcome to Brainstorm Guessing game\")\n",
    "\n"
   ]
  },
  {
   "cell_type": "code",
   "execution_count": 10,
   "id": "0be21578",
   "metadata": {},
   "outputs": [],
   "source": [
    "x = 8\n",
    "y = 15\n",
    "a = [x,y]\n",
    "k = r.choice(a)\n",
    "if x > 3 == 0 | y%2 == 0:\n",
    "    print('At least one of the condition is satisfied')\n",
    "if x < 3 == 0 | y%2 == 1:\n",
    "    print('Neither conditions is satisfied')"
   ]
  },
  {
   "cell_type": "code",
   "execution_count": 12,
   "id": "59b7b801",
   "metadata": {},
   "outputs": [
    {
     "name": "stdout",
     "output_type": "stream",
     "text": [
      "The first name:Millie\n"
     ]
    }
   ],
   "source": [
    "fname = \"Millie\"\n",
    "mname = \"Bobby\"\n",
    "print(\"The first name:\" + fname)"
   ]
  },
  {
   "cell_type": "code",
   "execution_count": 32,
   "id": "655d16e9",
   "metadata": {},
   "outputs": [
    {
     "name": "stdout",
     "output_type": "stream",
     "text": [
      "1505\n",
      "1540\n",
      "1575\n",
      "1610\n",
      "1645\n",
      "1680\n",
      "1715\n",
      "1750\n",
      "1785\n",
      "1820\n",
      "1855\n",
      "1890\n",
      "1925\n",
      "1960\n",
      "1995\n",
      "2030\n",
      "2065\n",
      "2100\n",
      "2135\n",
      "2170\n",
      "2205\n",
      "2240\n",
      "2275\n",
      "2310\n",
      "2345\n",
      "2380\n",
      "2415\n",
      "2450\n",
      "2485\n",
      "2520\n",
      "2555\n",
      "2590\n",
      "2625\n",
      "2660\n",
      "2695\n"
     ]
    }
   ],
   "source": [
    "for num in range(1500,2701):\n",
    "    if (num%7 == 0) and (num%5 == 0):\n",
    "        print (num)"
   ]
  },
  {
   "cell_type": "code",
   "execution_count": null,
   "id": "3dd055bf",
   "metadata": {},
   "outputs": [],
   "source": [
    "k = 0\n",
    "a = r.randint(1,10)\n",
    "while k < 10:\n",
    "    print(a)\n",
    "    break\n"
   ]
  },
  {
   "cell_type": "code",
   "execution_count": 93,
   "id": "56bd8367",
   "metadata": {
    "collapsed": true
   },
   "outputs": [
    {
     "ename": "KeyboardInterrupt",
     "evalue": "Interrupted by user",
     "output_type": "error",
     "traceback": [
      "\u001b[1;31m---------------------------------------------------------------------------\u001b[0m",
      "\u001b[1;31mKeyboardInterrupt\u001b[0m                         Traceback (most recent call last)",
      "\u001b[1;32m<ipython-input-93-41477450cac2>\u001b[0m in \u001b[0;36m<module>\u001b[1;34m\u001b[0m\n\u001b[1;32m----> 1\u001b[1;33m \u001b[0mname\u001b[0m \u001b[1;33m=\u001b[0m \u001b[0minput\u001b[0m\u001b[1;33m(\u001b[0m\u001b[1;34m'What is your name?'\u001b[0m\u001b[1;33m)\u001b[0m\u001b[1;33m\u001b[0m\u001b[1;33m\u001b[0m\u001b[0m\n\u001b[0m\u001b[0;32m      2\u001b[0m \u001b[0mprint\u001b[0m\u001b[1;33m(\u001b[0m\u001b[1;34m'Hello'\u001b[0m\u001b[1;33m,\u001b[0m\u001b[0mname\u001b[0m\u001b[1;33m,\u001b[0m\u001b[1;34m\"\\nWelcome to Brainstorm calculations game\"\u001b[0m\u001b[1;33m)\u001b[0m\u001b[1;33m\u001b[0m\u001b[1;33m\u001b[0m\u001b[0m\n\u001b[0;32m      3\u001b[0m \u001b[1;33m\u001b[0m\u001b[0m\n\u001b[0;32m      4\u001b[0m \u001b[0mk\u001b[0m \u001b[1;33m=\u001b[0m \u001b[0mr\u001b[0m\u001b[1;33m.\u001b[0m\u001b[0mrandint\u001b[0m\u001b[1;33m(\u001b[0m\u001b[1;36m1500\u001b[0m\u001b[1;33m,\u001b[0m\u001b[1;36m2700\u001b[0m\u001b[1;33m)\u001b[0m\u001b[1;33m\u001b[0m\u001b[1;33m\u001b[0m\u001b[0m\n",
      "\u001b[1;32m~\\Documents\\anaconda\\lib\\site-packages\\ipykernel\\kernelbase.py\u001b[0m in \u001b[0;36mraw_input\u001b[1;34m(self, prompt)\u001b[0m\n\u001b[0;32m    858\u001b[0m                 \u001b[1;34m\"raw_input was called, but this frontend does not support input requests.\"\u001b[0m\u001b[1;33m\u001b[0m\u001b[1;33m\u001b[0m\u001b[0m\n\u001b[0;32m    859\u001b[0m             )\n\u001b[1;32m--> 860\u001b[1;33m         return self._input_request(str(prompt),\n\u001b[0m\u001b[0;32m    861\u001b[0m             \u001b[0mself\u001b[0m\u001b[1;33m.\u001b[0m\u001b[0m_parent_ident\u001b[0m\u001b[1;33m,\u001b[0m\u001b[1;33m\u001b[0m\u001b[1;33m\u001b[0m\u001b[0m\n\u001b[0;32m    862\u001b[0m             \u001b[0mself\u001b[0m\u001b[1;33m.\u001b[0m\u001b[0m_parent_header\u001b[0m\u001b[1;33m,\u001b[0m\u001b[1;33m\u001b[0m\u001b[1;33m\u001b[0m\u001b[0m\n",
      "\u001b[1;32m~\\Documents\\anaconda\\lib\\site-packages\\ipykernel\\kernelbase.py\u001b[0m in \u001b[0;36m_input_request\u001b[1;34m(self, prompt, ident, parent, password)\u001b[0m\n\u001b[0;32m    902\u001b[0m             \u001b[1;32mexcept\u001b[0m \u001b[0mKeyboardInterrupt\u001b[0m\u001b[1;33m:\u001b[0m\u001b[1;33m\u001b[0m\u001b[1;33m\u001b[0m\u001b[0m\n\u001b[0;32m    903\u001b[0m                 \u001b[1;31m# re-raise KeyboardInterrupt, to truncate traceback\u001b[0m\u001b[1;33m\u001b[0m\u001b[1;33m\u001b[0m\u001b[1;33m\u001b[0m\u001b[0m\n\u001b[1;32m--> 904\u001b[1;33m                 \u001b[1;32mraise\u001b[0m \u001b[0mKeyboardInterrupt\u001b[0m\u001b[1;33m(\u001b[0m\u001b[1;34m\"Interrupted by user\"\u001b[0m\u001b[1;33m)\u001b[0m \u001b[1;32mfrom\u001b[0m \u001b[1;32mNone\u001b[0m\u001b[1;33m\u001b[0m\u001b[1;33m\u001b[0m\u001b[0m\n\u001b[0m\u001b[0;32m    905\u001b[0m             \u001b[1;32mexcept\u001b[0m \u001b[0mException\u001b[0m \u001b[1;32mas\u001b[0m \u001b[0me\u001b[0m\u001b[1;33m:\u001b[0m\u001b[1;33m\u001b[0m\u001b[1;33m\u001b[0m\u001b[0m\n\u001b[0;32m    906\u001b[0m                 \u001b[0mself\u001b[0m\u001b[1;33m.\u001b[0m\u001b[0mlog\u001b[0m\u001b[1;33m.\u001b[0m\u001b[0mwarning\u001b[0m\u001b[1;33m(\u001b[0m\u001b[1;34m\"Invalid Message:\"\u001b[0m\u001b[1;33m,\u001b[0m \u001b[0mexc_info\u001b[0m\u001b[1;33m=\u001b[0m\u001b[1;32mTrue\u001b[0m\u001b[1;33m)\u001b[0m\u001b[1;33m\u001b[0m\u001b[1;33m\u001b[0m\u001b[0m\n",
      "\u001b[1;31mKeyboardInterrupt\u001b[0m: Interrupted by user"
     ]
    }
   ],
   "source": [
    "name = input('What is your name?')\n",
    "print('Hello',name,\"\\nWelcome to Brainstorm calculations game\")\n",
    "\n",
    "k = r.randint(1500,2700)"
   ]
  },
  {
   "cell_type": "code",
   "execution_count": 118,
   "id": "92e11dd2",
   "metadata": {},
   "outputs": [
    {
     "data": {
      "text/plain": [
       "'pineapple'"
      ]
     },
     "execution_count": 118,
     "metadata": {},
     "output_type": "execute_result"
    }
   ],
   "source": [
    "fruit = ['mango','pawpaw','pawpaw','orange','apple','apple','pineapple']\n",
    "fruit[2]\n",
    "fruit[-1]"
   ]
  },
  {
   "cell_type": "code",
   "execution_count": 128,
   "id": "182d38c4",
   "metadata": {},
   "outputs": [
    {
     "data": {
      "text/plain": [
       "['pawpaw', 'orange', 'apple', 'apple', 'pineapple']"
      ]
     },
     "execution_count": 128,
     "metadata": {},
     "output_type": "execute_result"
    }
   ],
   "source": [
    "fruit[2:]"
   ]
  },
  {
   "cell_type": "code",
   "execution_count": 140,
   "id": "d3ce7fd5",
   "metadata": {},
   "outputs": [
    {
     "data": {
      "text/plain": [
       "['mango', 'noodles', 'biscult']"
      ]
     },
     "execution_count": 140,
     "metadata": {},
     "output_type": "execute_result"
    }
   ],
   "source": [
    "del fruit[3]\n",
    "fruit"
   ]
  },
  {
   "cell_type": "code",
   "execution_count": 17,
   "id": "2595871b",
   "metadata": {},
   "outputs": [
    {
     "name": "stdout",
     "output_type": "stream",
     "text": [
      "The alien's color is green\n"
     ]
    }
   ],
   "source": [
    "alien = {'color':'green','point': 5}\n",
    "print(\"The alien's color is \" + alien['color'])"
   ]
  },
  {
   "cell_type": "code",
   "execution_count": 20,
   "id": "0bbb9627",
   "metadata": {},
   "outputs": [
    {
     "name": "stdout",
     "output_type": "stream",
     "text": [
      "9\n"
     ]
    }
   ],
   "source": [
    "a = 10\n",
    "print(a-1)"
   ]
  },
  {
   "cell_type": "code",
   "execution_count": 29,
   "id": "3157dc0e",
   "metadata": {},
   "outputs": [
    {
     "name": "stdout",
     "output_type": "stream",
     "text": [
      "What is your name?sa\n",
      "Hello sa \n",
      "Welcome o Brainstorm Puzzle game\n",
      "Guess a number between 1 and 20    \n",
      "3\n",
      "sorry you point has been deduced to 9 point\n"
     ]
    }
   ],
   "source": []
  },
  {
   "cell_type": "code",
   "execution_count": 19,
   "id": "cc6a10e9",
   "metadata": {},
   "outputs": [],
   "source": [
    "alien['xposition'] = 0"
   ]
  },
  {
   "cell_type": "code",
   "execution_count": 13,
   "id": "a8bd2078",
   "metadata": {},
   "outputs": [
    {
     "data": {
      "text/plain": [
       "True"
      ]
     },
     "execution_count": 13,
     "metadata": {},
     "output_type": "execute_result"
    }
   ],
   "source": [
    "gameaction = True\n",
    "canedit = False\n",
    "'cashew' in fruit"
   ]
  },
  {
   "cell_type": "code",
   "execution_count": 6,
   "id": "41657f1c",
   "metadata": {},
   "outputs": [
    {
     "data": {
      "text/plain": [
       "['mango', 'cashew', 'biscult', 'pawpaw', 'footy', 'caprisun', 'tomtom']"
      ]
     },
     "execution_count": 6,
     "metadata": {},
     "output_type": "execute_result"
    }
   ],
   "source": [
    "fruit = ['mango','cashew','biscult','pawpaw','footy','caprisun','tomtom']\n",
    "fruit"
   ]
  },
  {
   "cell_type": "code",
   "execution_count": 2,
   "id": "6c438229",
   "metadata": {},
   "outputs": [
    {
     "name": "stdout",
     "output_type": "stream",
     "text": [
      "mango\n",
      "cashew\n",
      "biscult\n",
      "pawpaw\n",
      "footy\n",
      "caprisun\n",
      "tomtom\n"
     ]
    }
   ],
   "source": [
    "for juice in fruit:\n",
    "    print(juice)"
   ]
  },
  {
   "cell_type": "code",
   "execution_count": null,
   "id": "84f31cc2",
   "metadata": {},
   "outputs": [],
   "source": []
  },
  {
   "cell_type": "code",
   "execution_count": 8,
   "id": "91fbacc2",
   "metadata": {},
   "outputs": [
    {
     "data": {
      "text/plain": [
       "['mango', 'cashew', 'biscult', 'pawpaw', 'footy', 'caprisun', 'tomtom']"
      ]
     },
     "execution_count": 8,
     "metadata": {},
     "output_type": "execute_result"
    }
   ],
   "source": [
    "firsttwo = fruit[:2]\n",
    "fruit"
   ]
  },
  {
   "cell_type": "code",
   "execution_count": 147,
   "id": "6847c17e",
   "metadata": {},
   "outputs": [
    {
     "data": {
      "text/plain": [
       "'caprisun'"
      ]
     },
     "execution_count": 147,
     "metadata": {},
     "output_type": "execute_result"
    }
   ],
   "source": [
    "fruit.pop(-2)"
   ]
  },
  {
   "cell_type": "code",
   "execution_count": 57,
   "id": "1b4f8220",
   "metadata": {},
   "outputs": [
    {
     "data": {
      "text/plain": [
       "['mango',\n",
       " 'cashew',\n",
       " 'biscult',\n",
       " 'pawpaw',\n",
       " 'footy',\n",
       " 'caprisun',\n",
       " 'tomtom',\n",
       " 'biscult',\n",
       " 'sweet',\n",
       " 'biscult',\n",
       " 'sweet']"
      ]
     },
     "execution_count": 57,
     "metadata": {},
     "output_type": "execute_result"
    }
   ],
   "source": [
    "fruit.extend(['biscult','sweet'])\n",
    "fruit"
   ]
  },
  {
   "cell_type": "code",
   "execution_count": null,
   "id": "c704fff8",
   "metadata": {},
   "outputs": [],
   "source": []
  },
  {
   "cell_type": "code",
   "execution_count": 139,
   "id": "cd5667a9",
   "metadata": {},
   "outputs": [
    {
     "data": {
      "text/plain": [
       "['mango', 'noodles', 'biscult', 'sweet']"
      ]
     },
     "execution_count": 139,
     "metadata": {},
     "output_type": "execute_result"
    }
   ],
   "source": [
    "fruit.remove('pawpaw')\n",
    "fruit"
   ]
  },
  {
   "cell_type": "code",
   "execution_count": 135,
   "id": "39dbed8f",
   "metadata": {},
   "outputs": [
    {
     "data": {
      "text/plain": [
       "['mango', 'noodles', 'pawpaw', 'pawpaw', 'biscult', 'sweet']"
      ]
     },
     "execution_count": 135,
     "metadata": {},
     "output_type": "execute_result"
    }
   ],
   "source": [
    "fruit.insert(1,'noodles')\n",
    "fruit"
   ]
  },
  {
   "cell_type": "code",
   "execution_count": 130,
   "id": "f96fde5c",
   "metadata": {},
   "outputs": [
    {
     "data": {
      "text/plain": [
       "['mango',\n",
       " 'pawpaw',\n",
       " 'pawpaw',\n",
       " 'orange',\n",
       " 'apple',\n",
       " 'cashew',\n",
       " 'pineapple',\n",
       " 'banana']"
      ]
     },
     "execution_count": 130,
     "metadata": {},
     "output_type": "execute_result"
    }
   ],
   "source": [
    "fruit.append('banana')\n",
    "fruit"
   ]
  },
  {
   "cell_type": "code",
   "execution_count": 129,
   "id": "3d666683",
   "metadata": {},
   "outputs": [
    {
     "data": {
      "text/plain": [
       "['mango', 'pawpaw', 'pawpaw', 'orange', 'apple', 'cashew', 'pineapple']"
      ]
     },
     "execution_count": 129,
     "metadata": {},
     "output_type": "execute_result"
    }
   ],
   "source": [
    "fruit[-2]= 'cashew'\n",
    "fruit"
   ]
  },
  {
   "cell_type": "code",
   "execution_count": 103,
   "id": "9da170fe",
   "metadata": {},
   "outputs": [
    {
     "data": {
      "text/plain": [
       "['orange', 'apple']"
      ]
     },
     "execution_count": 103,
     "metadata": {},
     "output_type": "execute_result"
    }
   ],
   "source": [
    "fruit[2:-1]"
   ]
  },
  {
   "cell_type": "code",
   "execution_count": 106,
   "id": "8f99316a",
   "metadata": {},
   "outputs": [
    {
     "data": {
      "text/plain": [
       "True"
      ]
     },
     "execution_count": 106,
     "metadata": {},
     "output_type": "execute_result"
    }
   ],
   "source": [
    "\"apple\" in fruit"
   ]
  },
  {
   "cell_type": "code",
   "execution_count": 109,
   "id": "a9cd3340",
   "metadata": {},
   "outputs": [
    {
     "name": "stdout",
     "output_type": "stream",
     "text": [
      "appleappleappleappleapple\n"
     ]
    }
   ],
   "source": [
    "f2 = \"apple\"*5\n",
    "print(f2)"
   ]
  },
  {
   "cell_type": "code",
   "execution_count": 110,
   "id": "72ee6357",
   "metadata": {},
   "outputs": [
    {
     "name": "stdout",
     "output_type": "stream",
     "text": [
      "['appleappleappleappleapple']\n"
     ]
    }
   ],
   "source": [
    "f3 = f2.split(',')\n",
    "print(f3)"
   ]
  },
  {
   "cell_type": "code",
   "execution_count": 113,
   "id": "c0fc3565",
   "metadata": {},
   "outputs": [
    {
     "name": "stdout",
     "output_type": "stream",
     "text": [
      "['apple', ' apple', ' apple', ' apple', ' apple']\n"
     ]
    }
   ],
   "source": [
    "f3 = 'apple, apple, apple, apple, apple'\n",
    "f3 = f3.split(',')\n",
    "print(f3)"
   ]
  },
  {
   "cell_type": "code",
   "execution_count": 14,
   "id": "bd1c9990",
   "metadata": {},
   "outputs": [
    {
     "name": "stdout",
     "output_type": "stream",
     "text": [
      "['Ma', 'mon', 'b', 'y', 'Fr', 'y', 'ey', 'e', 'our', 'iend']\n"
     ]
    }
   ],
   "source": [
    "list1 = [\"Ma\",\"mon\",\"b\",\"y\",\"Fr\"]\n",
    "list2 = [\"y\",\"ey\",\"e\",\"our\",\"iend\"]\n",
    "for a in list2:\n",
    "    list1.append(a)\n",
    "print(list1)"
   ]
  },
  {
   "cell_type": "code",
   "execution_count": 60,
   "id": "84131a7f",
   "metadata": {},
   "outputs": [
    {
     "data": {
      "text/plain": [
       "[4, 9, 16, 25, 36, 49, 64]"
      ]
     },
     "execution_count": 60,
     "metadata": {},
     "output_type": "execute_result"
    }
   ],
   "source": [
    "a = []\n",
    "Nlist = [2,3,4,5,6,7,8]\n",
    "for b in Nlist:\n",
    "    a.append(b**2)\n",
    "a"
   ]
  },
  {
   "cell_type": "code",
   "execution_count": 40,
   "id": "bc6cb5da",
   "metadata": {},
   "outputs": [
    {
     "data": {
      "text/plain": [
       "['Egg', 'Fish', 'mango', 'orange', 'house']"
      ]
     },
     "execution_count": 40,
     "metadata": {},
     "output_type": "execute_result"
    }
   ],
   "source": [
    "Listy = [\"Egg\",\" \",\"Fish\",\"mango\",\"orange\",\" \",\"house\"]\n",
    "Listy.remove(\" \")\n",
    "Listy.remove(\" \")\n",
    "Listy"
   ]
  },
  {
   "cell_type": "code",
   "execution_count": 52,
   "id": "1d4dbd1a",
   "metadata": {},
   "outputs": [
    {
     "data": {
      "text/plain": [
       "['Egg', 'Fish', 'mango', 'orange', 'house']"
      ]
     },
     "execution_count": 52,
     "metadata": {},
     "output_type": "execute_result"
    }
   ],
   "source": [
    "Listy = [\"Egg\",\" \",\"Fish\",\"mango\",\"orange\",\" \",\"house\"]\n",
    "while \" \" in Listy:\n",
    "    Listy.remove(\" \")\n",
    "Listy"
   ]
  },
  {
   "cell_type": "code",
   "execution_count": 51,
   "id": "dcb3b1c7",
   "metadata": {},
   "outputs": [
    {
     "data": {
      "text/plain": [
       "['house', ' ', 'orange', 'mango', 'Fish', ' ', 'Egg']"
      ]
     },
     "execution_count": 51,
     "metadata": {},
     "output_type": "execute_result"
    }
   ],
   "source": [
    "Listy = [\"Egg\",\" \",\"Fish\",\"mango\",\"orange\",\" \",\"house\"]\n",
    "Listy.reverse()\n",
    "Listy"
   ]
  },
  {
   "cell_type": "code",
   "execution_count": 114,
   "id": "3ff36957",
   "metadata": {},
   "outputs": [
    {
     "data": {
      "text/plain": [
       "['h', 'o', 'u', 's', 'e']"
      ]
     },
     "execution_count": 114,
     "metadata": {},
     "output_type": "execute_result"
    }
   ],
   "source": [
    "list('house')"
   ]
  },
  {
   "cell_type": "code",
   "execution_count": 116,
   "id": "cf1c2c44",
   "metadata": {},
   "outputs": [
    {
     "data": {
      "text/plain": [
       "('h', 'o', 'u', 's', 'e')"
      ]
     },
     "execution_count": 116,
     "metadata": {},
     "output_type": "execute_result"
    }
   ],
   "source": [
    "tuple('house')"
   ]
  },
  {
   "cell_type": "code",
   "execution_count": 119,
   "id": "302bd7a9",
   "metadata": {},
   "outputs": [
    {
     "data": {
      "text/plain": [
       "7"
      ]
     },
     "execution_count": 119,
     "metadata": {},
     "output_type": "execute_result"
    }
   ],
   "source": [
    "len(fruit)"
   ]
  },
  {
   "cell_type": "code",
   "execution_count": 121,
   "id": "63eac2f3",
   "metadata": {},
   "outputs": [
    {
     "data": {
      "text/plain": [
       "2"
      ]
     },
     "execution_count": 121,
     "metadata": {},
     "output_type": "execute_result"
    }
   ],
   "source": [
    "fruit.count('apple')"
   ]
  },
  {
   "cell_type": "code",
   "execution_count": 123,
   "id": "5d5a8f69",
   "metadata": {},
   "outputs": [
    {
     "data": {
      "text/plain": [
       "'apple'"
      ]
     },
     "execution_count": 123,
     "metadata": {},
     "output_type": "execute_result"
    }
   ],
   "source": [
    "min(fruit)"
   ]
  },
  {
   "cell_type": "code",
   "execution_count": 125,
   "id": "e67a76be",
   "metadata": {},
   "outputs": [
    {
     "data": {
      "text/plain": [
       "'pineapple'"
      ]
     },
     "execution_count": 125,
     "metadata": {},
     "output_type": "execute_result"
    }
   ],
   "source": [
    "max(fruit)"
   ]
  },
  {
   "cell_type": "code",
   "execution_count": null,
   "id": "e7d318ef",
   "metadata": {},
   "outputs": [],
   "source": []
  }
 ],
 "metadata": {
  "kernelspec": {
   "display_name": "Python 3",
   "language": "python",
   "name": "python3"
  },
  "language_info": {
   "codemirror_mode": {
    "name": "ipython",
    "version": 3
   },
   "file_extension": ".py",
   "mimetype": "text/x-python",
   "name": "python",
   "nbconvert_exporter": "python",
   "pygments_lexer": "ipython3",
   "version": "3.8.8"
  }
 },
 "nbformat": 4,
 "nbformat_minor": 5
}
